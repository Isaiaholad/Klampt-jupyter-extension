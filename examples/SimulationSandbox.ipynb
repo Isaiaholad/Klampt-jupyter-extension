{
 "cells": [
  {
   "cell_type": "code",
   "execution_count": 4,
   "metadata": {},
   "outputs": [
    {
     "data": {
      "application/vnd.jupyter.widget-view+json": {
       "model_id": "376743c9b91e45e9a17263a126802668",
       "version_major": 2,
       "version_minor": 0
      },
      "text/plain": [
       "Playback(children=(Button(description=u'Play', icon=u'play', style=ButtonStyle(), tooltip=u'Start the animatio…"
      ]
     },
     "metadata": {},
     "output_type": "display_data"
    },
    {
     "data": {
      "application/vnd.jupyter.widget-view+json": {
       "model_id": "1c77e4f8671941db8d6f8dc7b54e688a",
       "version_major": 2,
       "version_minor": 0
      },
      "text/plain": [
       "KlamptWidget(scene={u'object': {u'matrix': [1, 0, 0, 0, 0, 0, -1, 0, 0, 1, 0, 0, 0, 0, 0, 1], u'uuid': u'24g06…"
      ]
     },
     "metadata": {},
     "output_type": "display_data"
    },
    {
     "data": {
      "application/vnd.jupyter.widget-view+json": {
       "model_id": "70e71f53f79c4248b45f7d3b1d817e1a",
       "version_major": 2,
       "version_minor": 0
      },
      "text/plain": [
       "Output()"
      ]
     },
     "metadata": {},
     "output_type": "display_data"
    }
   ],
   "source": [
    "%load_ext wurlitzer\n",
    "#^^^ used to capture C/C++ output to be displayed in the notebook\n",
    "\n",
    "import time\n",
    "from klampt import *\n",
    "from IPython.display import clear_output\n",
    "import ipywidgets as widgets\n",
    "import ipyklampt\n",
    "\n",
    "#get the HOME/Klampt base directory\n",
    "import os\n",
    "KLAMPT_DIR = os.environ['HOME'] + '/Klampt'\n",
    "\n",
    "world = WorldModel()\n",
    "if world.loadFile(KLAMPT_DIR + \"/data/tx90scenario0.xml\"):\n",
    "    sim = Simulator(world)\n",
    "    kvis = ipyklampt.KlamptWidget(world)\n",
    "    playback_widget = ipyklampt.Playback(kvis)\n",
    "    \n",
    "    #If you'd like to show the print output, comment out this line\n",
    "    clear_output()\n",
    "    display(playback_widget)\n",
    "    display(kvis)\n",
    "else:\n",
    "    print \"There was a problem loading the world file\"\n",
    "\n",
    "#Controls:\n",
    "#left mouse click to rotate the view\n",
    "#right click or ctrl+click to pan the view\n",
    "#mouse wheel or shift+click to zoom the view"
   ]
  },
  {
   "cell_type": "code",
   "execution_count": 2,
   "metadata": {
    "collapsed": true
   },
   "outputs": [],
   "source": [
    "#define your visualization and controller code here\n",
    "import random\n",
    "\n",
    "next_move_time = 2.0\n",
    "move_delay = 5.0\n",
    "robot = world.robot(0)\n",
    "\n",
    "def init(world):\n",
    "    global next_move_time\n",
    "    kvis.add_text(\"HUD1\",5,5,\"0\")\n",
    "    next_move_time = 2.0\n",
    "    \n",
    "def control_loop(t,controller):\n",
    "    global next_move_time\n",
    "    kvis.add_text(\"HUD1\",5,5,str(t))\n",
    "    if t >= next_move_time:\n",
    "        qmin,qmax = robot.getJointLimits()\n",
    "        q = [random.uniform(a,b) for (a,b) in zip(qmin,qmax)]\n",
    "        controller.setMilestone(q)\n",
    "        next_move_time += move_delay\n",
    "    pass\n"
   ]
  },
  {
   "cell_type": "code",
   "execution_count": 3,
   "metadata": {
    "collapsed": true
   },
   "outputs": [],
   "source": [
    "#this code runs the simulation and binds your code to the playback buttons\n",
    "dt = 0.02\n",
    "\n",
    "init(world)\n",
    "\n",
    "def do_reset():\n",
    "    sim.reset()\n",
    "    sim.updateWorld()\n",
    "    init(world)\n",
    "\n",
    "def do_advance():\n",
    "    global world,sim\n",
    "    if world.numRobots() > 0:\n",
    "        control_loop(sim.getTime(),sim.controller(0))  #call code in the above cell\n",
    "    #print \"Simulating...\",dt\n",
    "    sim.simulate(dt)\n",
    "    sim.updateWorld()\n",
    "    #print \"Done.\"\n",
    "\n",
    "#this binds the playback widget buttons\n",
    "playback_widget.advance = do_advance\n",
    "playback_widget.reset = do_reset\n",
    "playback_widget.quiet = False"
   ]
  },
  {
   "cell_type": "code",
   "execution_count": null,
   "metadata": {
    "collapsed": true
   },
   "outputs": [],
   "source": []
  }
 ],
 "metadata": {
  "kernelspec": {
   "display_name": "Python 2",
   "language": "python",
   "name": "python2"
  },
  "language_info": {
   "codemirror_mode": {
    "name": "ipython",
    "version": 2
   },
   "file_extension": ".py",
   "mimetype": "text/x-python",
   "name": "python",
   "nbconvert_exporter": "python",
   "pygments_lexer": "ipython2",
   "version": "2.7.12"
  }
 },
 "nbformat": 4,
 "nbformat_minor": 2
}
