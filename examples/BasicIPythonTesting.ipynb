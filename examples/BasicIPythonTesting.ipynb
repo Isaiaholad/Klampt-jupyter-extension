{
 "cells": [
  {
   "cell_type": "code",
   "execution_count": 1,
   "metadata": {},
   "outputs": [
    {
     "data": {
      "text/html": [
       "<h1><div id=\"text\">Hello, world!</div></h1>"
      ],
      "text/plain": [
       "<IPython.core.display.HTML object>"
      ]
     },
     "metadata": {},
     "output_type": "display_data"
    },
    {
     "data": {
      "application/javascript": [
       "document.getElementById('text').innerHTML = 'voila'"
      ],
      "text/plain": [
       "<IPython.core.display.Javascript object>"
      ]
     },
     "execution_count": 1,
     "metadata": {},
     "output_type": "execute_result"
    }
   ],
   "source": [
    "from IPython.core.display import display, HTML, Javascript\n",
    "\n",
    "\n",
    "display(HTML('<h1><div id=\"text\">Hello, world!</div></h1>'))\n",
    "Javascript(\"document.getElementById('text').innerHTML = 'voila'\")"
   ]
  },
  {
   "cell_type": "code",
   "execution_count": 2,
   "metadata": {
    "scrolled": true
   },
   "outputs": [
    {
     "data": {
      "text/html": [
       "\n",
       "<style>\n",
       "    div#notebook-container    { width: 95%; }\n",
       "    div#menubar-container     { width: 65%; }\n",
       "    div#maintoolbar-container { width: 99%; }\n",
       "</style>\n"
      ],
      "text/plain": [
       "<IPython.core.display.HTML object>"
      ]
     },
     "metadata": {},
     "output_type": "display_data"
    }
   ],
   "source": [
    "from IPython.display import display, HTML\n",
    "\n",
    "display(HTML(data=\"\"\"\n",
    "<style>\n",
    "    div#notebook-container    { width: 95%; }\n",
    "    div#menubar-container     { width: 65%; }\n",
    "    div#maintoolbar-container { width: 99%; }\n",
    "</style>\n",
    "\"\"\"))"
   ]
  },
  {
   "cell_type": "code",
   "execution_count": 3,
   "metadata": {
    "collapsed": true,
    "scrolled": true
   },
   "outputs": [],
   "source": [
    "from ipykernel.comm import Comm\n",
    "\n",
    "my_comm = Comm(target_name='klampt_comm', data={'foo': 1})\n",
    "my_comm.send({'foo': 2})\n",
    "\n",
    "# Add a callback for received messages.\n",
    "@my_comm.on_msg\n",
    "def _recv(msg):\n",
    "    # Use msg['content']['data'] for the data in the message\n",
    "    print \"Received in Python\",msg['content']['data']"
   ]
  },
  {
   "cell_type": "code",
   "execution_count": 9,
   "metadata": {
    "scrolled": false
   },
   "outputs": [
    {
     "data": {
      "text/html": [
       "<div id=\"canvas\" style=\"width:800px; height:600px; margin:0; padding:0\">container</div>"
      ],
      "text/plain": [
       "<IPython.core.display.HTML object>"
      ]
     },
     "metadata": {},
     "output_type": "display_data"
    },
    {
     "data": {
      "application/javascript": [
       "\n",
       "    function loadScript(url,cb,failcb) {\n",
       "        jQuery.ajax({\n",
       "            url: url,\n",
       "            dataType: 'script',\n",
       "            success: cb,\n",
       "            failure: failcb,\n",
       "            async: true\n",
       "        });\n",
       "    }\n",
       "    function loadScripts(urls,finalcb) {\n",
       "        if(urls.length==1) {\n",
       "            loadScript(urls[0],finalcb,function() { alert(\"Failed to load \"+urls[0]); });\n",
       "        }\n",
       "        else {\n",
       "            loadScript(urls[0],function() { \n",
       "                    loadScripts(urls.slice(1,urls.length),finalcb);\n",
       "                },\n",
       "                function() {\n",
       "                    alert(\"Failed to load \"+urls[0]);\n",
       "                })\n",
       "        }\n",
       "    }\n",
       "    var prefix = \"http://klampt.org/\";\n",
       "    var myklampt = null;\n",
       "    loadScripts([prefix+\"three.min.js\",\n",
       "                prefix+\"KlamptFrontend.js\"],\n",
       "             function() {\n",
       "                myklampt = new KLAMPT(document.getElementById(\"canvas\")); \n",
       "\n",
       "                Jupyter.notebook.kernel.comm_manager.register_target('klampt_comm',\n",
       "                function(comm, msg) {\n",
       "                    // comm is the frontend comm instance\n",
       "                    // msg is the comm_open message, which can carry data\n",
       "                    comm.on_msg(function(msg) {\n",
       "                        var payload = msg['content']['data']\n",
       "                        if(payload.type == 'transforms') {\n",
       "                            myklampt.update_scene(payload.data);\n",
       "                        }\n",
       "                        else if(payload.type == 'scene') {\n",
       "                            myklampt.set_scene(payload.data);\n",
       "                        }\n",
       "                        else if(payload.type == 'rpc') {\n",
       "                            myklampt.rpc(payload.data);\n",
       "                        }\n",
       "                        else {\n",
       "                            console.log(\"Illegal message type \"+payload.type);\n",
       "                        }\n",
       "                    });\n",
       "                });\n",
       "    });\n"
      ],
      "text/plain": [
       "<IPython.core.display.Javascript object>"
      ]
     },
     "execution_count": 9,
     "metadata": {},
     "output_type": "execute_result"
    }
   ],
   "source": [
    "from IPython.core.display import display, HTML, Javascript\n",
    "\n",
    "container = \"\"\"<div id=\"canvas\" style=\"width:800px; height:600px; margin:0; padding:0\">container</div>\"\"\"\n",
    "\n",
    "code2 = \"\"\"\n",
    "    function loadScript(url,cb,failcb) {\n",
    "        jQuery.ajax({\n",
    "            url: url,\n",
    "            dataType: 'script',\n",
    "            success: cb,\n",
    "            failure: failcb,\n",
    "            async: true\n",
    "        });\n",
    "    }\n",
    "    function loadScripts(urls,finalcb) {\n",
    "        if(urls.length==1) {\n",
    "            loadScript(urls[0],finalcb,function() { alert(\"Failed to load \"+urls[0]); });\n",
    "        }\n",
    "        else {\n",
    "            loadScript(urls[0],function() { \n",
    "                    loadScripts(urls.slice(1,urls.length),finalcb);\n",
    "                },\n",
    "                function() {\n",
    "                    alert(\"Failed to load \"+urls[0]);\n",
    "                })\n",
    "        }\n",
    "    }\n",
    "    var prefix = \"http://klampt.org/\";\n",
    "    var myklampt = null;\n",
    "    loadScripts([prefix+\"three.min.js\",\n",
    "                prefix+\"KlamptFrontend.js\"],\n",
    "             function() {\n",
    "                myklampt = new KLAMPT(document.getElementById(\"canvas\")); \n",
    "\n",
    "                Jupyter.notebook.kernel.comm_manager.register_target('klampt_comm',\n",
    "                function(comm, msg) {\n",
    "                    // comm is the frontend comm instance\n",
    "                    // msg is the comm_open message, which can carry data\n",
    "                    comm.on_msg(function(msg) {\n",
    "                        var payload = msg['content']['data']\n",
    "                        if(payload.type == 'transforms') {\n",
    "                            myklampt.update_scene(payload.data);\n",
    "                        }\n",
    "                        else if(payload.type == 'scene') {\n",
    "                            myklampt.set_scene(payload.data);\n",
    "                        }\n",
    "                        else if(payload.type == 'rpc') {\n",
    "                            myklampt.rpc(payload.data);\n",
    "                        }\n",
    "                        else {\n",
    "                            console.log(\"Illegal message type \"+payload.type);\n",
    "                        }\n",
    "                    });\n",
    "                });\n",
    "    });\n",
    "\"\"\"\n",
    "\n",
    "display(HTML(container))\n",
    "Javascript(code2)\n"
   ]
  },
  {
   "cell_type": "code",
   "execution_count": 10,
   "metadata": {
    "collapsed": true,
    "scrolled": true
   },
   "outputs": [],
   "source": [
    "\n",
    "msg = {'type':'rpc',\n",
    "       'data':{'type':'add_text','name':'test','text':'hello','x':10,'y':10}}\n",
    "my_comm = Comm(target_name='klampt_comm')\n",
    "my_comm.send(msg)"
   ]
  },
  {
   "cell_type": "code",
   "execution_count": 11,
   "metadata": {},
   "outputs": [
    {
     "data": {
      "text/plain": [
       "True"
      ]
     },
     "execution_count": 11,
     "metadata": {},
     "output_type": "execute_result"
    }
   ],
   "source": [
    "from klampt import *\n",
    "w = WorldModel()\n",
    "w.loadFile(\"../../data/athlete_plane.xml\")"
   ]
  },
  {
   "cell_type": "code",
   "execution_count": 12,
   "metadata": {
    "collapsed": true
   },
   "outputs": [],
   "source": [
    "from klampt import ThreeJSGetScene,ThreeJSGetTransforms\n",
    "import json\n",
    "s = ThreeJSGetScene(w)\n",
    "msg = {'type':'scene','data':json.loads(s)}\n",
    "\n",
    "my_comm.send(msg)"
   ]
  },
  {
   "cell_type": "code",
   "execution_count": 13,
   "metadata": {
    "collapsed": true
   },
   "outputs": [],
   "source": [
    "q = w.robot(0).getConfig()\n",
    "q[2] += 2\n",
    "w.robot(0).setConfig(q)\n",
    "s = ThreeJSGetTransforms(w)\n",
    "msg = {'type':'transforms','data':json.loads(s)}\n",
    "my_comm.send(msg)"
   ]
  },
  {
   "cell_type": "code",
   "execution_count": null,
   "metadata": {
    "collapsed": true
   },
   "outputs": [],
   "source": [
    "import ipywidgets as widgets\n",
    "from traitlets import Unicode, Dict, validate\n",
    "from IPython.display import display,Javascript\n",
    "\n",
    "class HelloWidget(widgets.DOMWidget):\n",
    "    _view_name = Unicode('HelloView').tag(sync=True)\n",
    "    _view_module = Unicode('hello').tag(sync=True)\n",
    "    _view_module_version = Unicode('0.1.0').tag(sync=True)\n",
    "    msg = Dict({}).tag(sync=True)\n",
    "    def __init__(self):\n",
    "        widgets.DOMWidget.__init__(self)\n",
    "        display(Javascript(\"\"\"require.undef('hello');\n",
    "\n",
    "//older version uses jupyter-js-widgets, not @jupyter-widgets/base\n",
    "define('hello', [\"@jupyter-widgets/base\"], function(widgets) {\n",
    "    console.log(\"Defining hello widget\");\n",
    "    var HelloView = widgets.DOMWidgetView.extend({\n",
    "        // Render the view.\n",
    "        render: function() {\n",
    "            console.log(\"In render\");\n",
    "            this.value_changed();\n",
    "            this.model.on('change:msg', this.value_changed, this);\n",
    "        },\n",
    "        value_changed: function() {\n",
    "            console.log(this.model.get('msg'));\n",
    "            var msg = JSON.stringify(this.model.get('msg'));\n",
    "            this.el.textContent = 'Got a message of blah length '+msg.length;\n",
    "            if(msg.length > 0) {\n",
    "                console.log(msg);\n",
    "            }\n",
    "        },\n",
    "        \n",
    "    });\n",
    "\n",
    "    return {\n",
    "        HelloView: HelloView\n",
    "    };\n",
    "});\"\"\"))"
   ]
  },
  {
   "cell_type": "code",
   "execution_count": null,
   "metadata": {
    "collapsed": true
   },
   "outputs": [],
   "source": [
    "w = HelloWidget()\n",
    "w"
   ]
  },
  {
   "cell_type": "code",
   "execution_count": null,
   "metadata": {
    "collapsed": true
   },
   "outputs": [],
   "source": [
    "w.msg = {'test1':1}\n",
    "w.msg = {'test2':2}\n",
    "w.msg = {'test3':3}\n",
    "w.msg = {'test4':4}"
   ]
  },
  {
   "cell_type": "code",
   "execution_count": null,
   "metadata": {
    "collapsed": true
   },
   "outputs": [],
   "source": []
  },
  {
   "cell_type": "code",
   "execution_count": null,
   "metadata": {
    "collapsed": true
   },
   "outputs": [],
   "source": [
    "import ipywidgets as widgets\n",
    "from traitlets import Unicode, Dict, Int, validate\n",
    "from IPython.display import display,Javascript\n",
    "\n",
    "_setup_code = \"\"\"\n",
    "function loadScript(url,cb,failcb) {\n",
    "    jQuery.ajax({\n",
    "        url: url,\n",
    "        dataType: 'script',\n",
    "        success: cb,\n",
    "        failure: failcb,\n",
    "        async: true\n",
    "    });\n",
    "}\n",
    "function loadScripts(urls,successcb,failcb) {\n",
    "    if(urls.length==1) {\n",
    "        loadScript(urls[0],successcb,function() { alert(\"Failed to load \"+urls[0]); failcb(); });\n",
    "    }\n",
    "    else {\n",
    "        loadScript(urls[0],function() { \n",
    "                loadScripts(urls.slice(1,urls.length),successcb,failcb);\n",
    "            },\n",
    "            function() {\n",
    "                alert(\"Failed to load \"+urls[0]);\n",
    "                failcb();\n",
    "            });\n",
    "    }\n",
    "}\n",
    "var prefix = \"http://klampt.org/\";\n",
    "var klampt_ready = false;\n",
    "loadScripts([prefix+\"three.min.js\",\n",
    "             prefix+\"KlamptFrontend.js\"],\n",
    "            function() {\n",
    "              console.log(\"Klamp't is ready\");\n",
    "              klampt_ready = true;\n",
    "            },\n",
    "            function() {\n",
    "              console.log(\"Klamp't failed to load\");\n",
    "            }\n",
    ");\n",
    "\"\"\"\n",
    "display(Javascript(_setup_code))"
   ]
  },
  {
   "cell_type": "code",
   "execution_count": null,
   "metadata": {
    "collapsed": true
   },
   "outputs": [],
   "source": [
    "class KlamptWidget(widgets.DOMWidget):\n",
    "    _view_name = Unicode('KlamptView').tag(sync=True)\n",
    "    _view_module = Unicode('klampt-jupyter').tag(sync=True)\n",
    "    _view_module_version = Unicode('0.1.0').tag(sync=True)\n",
    "    width = Int(800).tag(sync=True)\n",
    "    height = Int(600).tag(sync=True)\n",
    "    msg = Dict({}).tag(sync=True)\n",
    "    def __init__(self,world=None,*args,**kwargs):\n",
    "        widgets.DOMWidget.__init__(self,*args,**kwargs)\n",
    "        self.world = world\n",
    "        display(Javascript(\"\"\"require.undef('klampt-jupyter');\n",
    "\n",
    "//older version uses jupyter-js-widgets, not @jupyter-widgets/base\n",
    "define('klampt-jupyter', [\"@jupyter-widgets/base\"], function(widgets) {\n",
    "\n",
    "    var KlamptView = widgets.DOMWidgetView.extend({\n",
    "        initialize: function() {\n",
    "            console.log(\"Initialize\");\n",
    "            this.delayed_msgs = [];\n",
    "            this.klampt = null;\n",
    "        },\n",
    "        createDiv: function(){\n",
    "            var width = this.model.get('width');\n",
    "            var height = this.model.get('height');\n",
    "            var div = document.createElement(\"div\");\n",
    "            div.style.width = width+\"px\";\n",
    "            div.style.height = height+\"px\";\n",
    "            return div;\n",
    "            },\n",
    "        // Render the view.\n",
    "        render: function() {\n",
    "            console.log(\"Creating DOM element\");\n",
    "            this.klamptArea = this.createDiv();\n",
    "            this.el.appendChild(this.klamptArea);\n",
    "            this.value_changed();\n",
    "            this.model.on('change:msg', this.value_changed, this);\n",
    "        },\n",
    "        value_changed: function() {\n",
    "            var msg = this.model.get('msg');\n",
    "            this.klamptArea.textContent = 'Got a message of type '+msg.type;\n",
    "            if(KLAMPT==null) {\n",
    "                console.log(\"klamp't not ready, delaying message of type \"+msg.type);\n",
    "                this.delayed_msgs.push(msg);\n",
    "            }\n",
    "            else {\n",
    "                if(this.klampt == null) {\n",
    "                    console.log(\"Creating KLAMPT object\");\n",
    "                    this.klampt = new KLAMPT(this.klamptArea);\n",
    "                    var _this=this;\n",
    "                    setTimeout(function() {\n",
    "                          _this.klampt.resize(_this.model.get('width'),_this.model.get('height'));\n",
    "                        },\n",
    "                        500);\n",
    "                }\n",
    "                if(this.delayed_msgs.length > 0) {\n",
    "                    for(var i=0;i<this.delayed_msgs.length;i++) {\n",
    "                        this.process_msg(this.delayed_msgs[i]);\n",
    "                    }\n",
    "                    this.delayed_msgs = [];\n",
    "                }\n",
    "                this.process_msg(msg);\n",
    "            }\n",
    "        },\n",
    "        process_msg: function(payload) {\n",
    "            if(payload['type'] === undefined) {\n",
    "                return;\n",
    "            }\n",
    "            if(payload.type == 'update') {\n",
    "                console.log(\"B\");\n",
    "                this.klampt.update_scene(payload.data);\n",
    "            }\n",
    "            else if(payload.type == 'scene') {\n",
    "                console.log(\"C\");\n",
    "                this.klampt.set_scene(payload.data);\n",
    "            }\n",
    "            else if(payload.type == 'rpc') {\n",
    "                console.log(\"D\");\n",
    "                this.klampt.rpc(payload.data);\n",
    "            }\n",
    "            else {\n",
    "                this.klamptArea.textContent = \"Illegal message type \"+payload.type;\n",
    "            }\n",
    "        }\n",
    "        \n",
    "    });\n",
    "\n",
    "    return {\n",
    "        KlamptView: KlamptView\n",
    "    };\n",
    "});\"\"\"))\n",
    "        "
   ]
  },
  {
   "cell_type": "code",
   "execution_count": null,
   "metadata": {
    "collapsed": true
   },
   "outputs": [],
   "source": [
    "w = KlamptWidget()"
   ]
  },
  {
   "cell_type": "code",
   "execution_count": null,
   "metadata": {
    "collapsed": true
   },
   "outputs": [],
   "source": [
    "w"
   ]
  },
  {
   "cell_type": "code",
   "execution_count": null,
   "metadata": {
    "collapsed": true
   },
   "outputs": [],
   "source": [
    "w.msg = {'blah':2}"
   ]
  },
  {
   "cell_type": "code",
   "execution_count": null,
   "metadata": {
    "collapsed": true
   },
   "outputs": [],
   "source": [
    "from IPython.display import display,clear_output,TextDisplayObject\n",
    "connected = False\n",
    "value = None\n",
    "def commfunc(comm,msg):\n",
    "    global connected,value\n",
    "    clear_output()\n",
    "    display(TextDisplayObject(\"Commfunc \"+str(msg)))\n",
    "    connected = True\n",
    "    @comm.on_msg\n",
    "    def _recv(msg):\n",
    "        global value\n",
    "        value = msg['content']['data']['blah']\n",
    "get_ipython().kernel.comm_manager.register_target('test_comm', commfunc)\n",
    "\n",
    "from IPython.core.display import Javascript\n",
    "print \"HEllo\"\n",
    "\n",
    "Javascript(\"\"\"\n",
    "var comm = Jupyter.notebook.kernel.comm_manager.new_comm('test_comm',{});\n",
    "comm.send({'blah':'2'});\n",
    "\"\"\")\n",
    "\n",
    "#WEIRD: this doesn't print or update the display inside the javascript callback --\n",
    "#the kernel is not updating the frontend"
   ]
  },
  {
   "cell_type": "code",
   "execution_count": null,
   "metadata": {
    "collapsed": true
   },
   "outputs": [],
   "source": [
    "print connected,value"
   ]
  }
 ],
 "metadata": {
  "kernelspec": {
   "display_name": "Python 2",
   "language": "python",
   "name": "python2"
  },
  "language_info": {
   "codemirror_mode": {
    "name": "ipython",
    "version": 2
   },
   "file_extension": ".py",
   "mimetype": "text/x-python",
   "name": "python",
   "nbconvert_exporter": "python",
   "pygments_lexer": "ipython2",
   "version": "2.7.12"
  }
 },
 "nbformat": 4,
 "nbformat_minor": 2
}
