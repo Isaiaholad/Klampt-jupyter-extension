{
 "cells": [
  {
   "cell_type": "code",
   "execution_count": 5,
   "metadata": {
    "scrolled": false
   },
   "outputs": [
    {
     "data": {
      "application/vnd.jupyter.widget-view+json": {
       "model_id": "da1b7c8d314e4ad28e25212f3e9a90e2",
       "version_major": 2,
       "version_minor": 0
      },
      "text/plain": [
       "KlamptWidget(scene={u'object': {u'matrix': [1, 0, 0, 0, 0, 0, -1, 0, 0, 1, 0, 0, 0, 0, 0, 1], u'uuid': u'357ee…"
      ]
     },
     "metadata": {},
     "output_type": "display_data"
    },
    {
     "data": {
      "application/vnd.jupyter.widget-view+json": {
       "model_id": "196ed84ea1b54537adb3204341c77535",
       "version_major": 2,
       "version_minor": 0
      },
      "text/plain": [
       "Playback(children=(HBox(children=(Button(description=u'Play', icon=u'play', style=ButtonStyle(), tooltip=u'Sta…"
      ]
     },
     "metadata": {},
     "output_type": "display_data"
    }
   ],
   "source": [
    "%load_ext wurlitzer\n",
    "#^^^ used to capture C/C++ output to be displayed in the notebook\n",
    "\n",
    "import time\n",
    "from klampt import *\n",
    "from IPython.display import clear_output\n",
    "import ipywidgets as widgets\n",
    "import ipyklampt\n",
    "\n",
    "#get the HOME/Klampt base directory\n",
    "import os\n",
    "KLAMPT_DIR = os.environ['HOME'] + '/Klampt'\n",
    "\n",
    "world = WorldModel()\n",
    "if world.loadFile(KLAMPT_DIR + \"/data/tx90scenario0.xml\"):\n",
    "    sim = Simulator(world)\n",
    "    kvis = ipyklampt.KlamptWidget(world)\n",
    "    playback_widget = ipyklampt.Playback(kvis)\n",
    "    \n",
    "    #If you'd like to show the print output from loading the file, comment out this line\n",
    "    clear_output()\n",
    "    display(kvis)\n",
    "    display(playback_widget)\n",
    "    \n",
    "    #NOTE: if you are going to add/modify items to the world in the same cell that it is created, you will\n",
    "    #need to place all of those calls in a begin_rpc/end_rpc block\n",
    "    kvis.begin_rpc()\n",
    "    kvis.add_text(\"HUD1\",1,1,\"0\")\n",
    "    ghost = kvis.add_ghost()\n",
    "    kvis.set_color(ghost,1,0,0,0.5)\n",
    "    kvis.end_rpc()\n",
    "else:\n",
    "    print \"There was a problem loading the world file\"\n",
    "    \n",
    "#Controls:\n",
    "#left mouse click to rotate the view\n",
    "#right click or ctrl+click to pan the view\n",
    "#mouse wheel or shift+click to zoom the view"
   ]
  },
  {
   "cell_type": "code",
   "execution_count": 6,
   "metadata": {
    "collapsed": true
   },
   "outputs": [],
   "source": [
    "import random\n",
    "from klampt.plan.cspace import *\n",
    "from klampt.plan.robotcspace import RobotCSpace\n",
    "from klampt.model.collide import WorldCollider\n",
    "from klampt.model.trajectory import *\n",
    "\n",
    "#first time the plan-to is called\n",
    "next_move_time = 1.0\n",
    "#if this is too large, Jupyter will complain...\n",
    "planning_time_limit = 2.0\n",
    "\n",
    "robot = world.robot(0)\n",
    "\n",
    "def plan_to(qa,qb):\n",
    "    collider = WorldCollider(world)\n",
    "    cspace = RobotCSpace(robot,collider)\n",
    "    cspace.eps = 1e-2\n",
    "    optimizing = True\n",
    "    MotionPlan.setOptions(type=\"sbl\",connectionThreshold=2,perturbationRadius=2,shortcut=True)\n",
    "    planner = MotionPlan(cspace)\n",
    "    planner.setEndpoints(qa,qb)\n",
    "    t0 = time.time()\n",
    "    foundTime = None\n",
    "    path = None\n",
    "    kvis.add_text(\"HUD2\",1,5,\"Planning...\")\n",
    "    while time.time() - t0 < planning_time_limit:\n",
    "        planner.planMore(1)\n",
    "        if foundTime == None:\n",
    "            path = planner.getPath()\n",
    "            if path != None and len(path) > 0:\n",
    "                foundTime = time.time()\n",
    "                kvis.add_text(\"HUD2\",1,5,\"Found first path in %gs\"%(foundTime-t0,))\n",
    "                if not optimizing:\n",
    "                    break\n",
    "    if foundTime != None:\n",
    "        if optimizing:\n",
    "            kvis.add_text(\"HUD2\",1,5,\"Optimized for another %gs\"%(time.time()-foundTime,))\n",
    "        path = planner.getPath()\n",
    "    else:\n",
    "        path = None\n",
    "    return path\n",
    "\n",
    "\n",
    "def control_loop(t,controller):\n",
    "    global next_move_time\n",
    "    kvis.add_text(\"HUD1\",1,1,str(t))\n",
    "    if t+0.02 >= next_move_time:\n",
    "        print \"Planning on next time step for %fs...\"%(planning_time_limit,)\n",
    "    if t >= next_move_time:\n",
    "        qmin,qmax = robot.getJointLimits()\n",
    "        q = [random.uniform(a,b) for (a,b) in zip(qmin,qmax)]\n",
    "        print \"Calling plan to...\",q\n",
    "        kvis.set_color(ghost,1,1,0,0.5)\n",
    "        kvis.set_ghost_config(q)\n",
    "        try:\n",
    "            path = plan_to(controller.getCommandedConfig(),q)\n",
    "        except Exception as e:\n",
    "            print e\n",
    "            path = None\n",
    "        if path != None:\n",
    "            kvis.set_color(ghost,0,1,0,0.5)\n",
    "            for i,q in enumerate(path):\n",
    "                if i == 1:\n",
    "                    controller.addMilestoneLinear(q)\n",
    "                elif i >= 2:\n",
    "                    controller.addMilestoneLinear(q)\n",
    "        else:\n",
    "            kvis.set_color(ghost,1,0,0,0.5)\n",
    "        #controller.setMilestone(q)\n",
    "        next_move_time += 5.0\n",
    "    pass\n"
   ]
  },
  {
   "cell_type": "code",
   "execution_count": 7,
   "metadata": {
    "collapsed": true,
    "scrolled": false
   },
   "outputs": [],
   "source": [
    "dt = 0.02\n",
    "\n",
    "def do_reset():\n",
    "    global next_move_time\n",
    "    sim.reset()\n",
    "    sim.updateWorld()\n",
    "    next_move_time = 2.0\n",
    "\n",
    "def do_advance():\n",
    "    global world,sim\n",
    "    if world.numRobots() > 0:\n",
    "        control_loop(sim.getTime(),sim.controller(0))  #call code in the above cell\n",
    "    #print \"Simulating...\",dt\n",
    "    sim.simulate(dt)\n",
    "    sim.updateWorld()\n",
    "    #print \"Done.\"\n",
    "\n",
    "#this binds the playback widget buttons\n",
    "playback_widget.advance = do_advance\n",
    "playback_widget.reset = do_reset\n",
    "playback_widget.quiet = False"
   ]
  },
  {
   "cell_type": "code",
   "execution_count": null,
   "metadata": {
    "collapsed": true
   },
   "outputs": [],
   "source": []
  }
 ],
 "metadata": {
  "kernelspec": {
   "display_name": "Python 2",
   "language": "python",
   "name": "python2"
  },
  "language_info": {
   "codemirror_mode": {
    "name": "ipython",
    "version": 2
   },
   "file_extension": ".py",
   "mimetype": "text/x-python",
   "name": "python",
   "nbconvert_exporter": "python",
   "pygments_lexer": "ipython2",
   "version": "2.7.12"
  }
 },
 "nbformat": 4,
 "nbformat_minor": 2
}
